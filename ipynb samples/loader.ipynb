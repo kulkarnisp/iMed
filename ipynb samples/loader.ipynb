{
 "cells": [
  {
   "cell_type": "code",
   "execution_count": 5,
   "metadata": {},
   "outputs": [],
   "source": [
    "import wfdb\n",
    "import scipy.signal as signal\n",
    "import peakutils\n",
    "import numpy as np\n",
    "import os\n",
    "import plotly.graph_objects as go\n",
    "import pandas as pd\n",
    "from scipy.signal import find_peaks"
   ]
  },
  {
   "cell_type": "code",
   "execution_count": 6,
   "metadata": {},
   "outputs": [],
   "source": [
    "class loader:\n",
    "    def loader_(self,rpath):\n",
    "        self.records={}\n",
    "        self.signal_slice={}\n",
    "        self.smoothed_signal={}\n",
    "        self.r_peaks={}\n",
    "        flist = os.listdir(rpath)\n",
    "        flist = [file for file in flist if file.endswith(\".dat\")]   \n",
    "        for file in flist:\n",
    "            self.records[file] = wfdb.rdrecord(rpath+file[:-4],channels=[0])\n",
    "    def signal_slice_(self):\n",
    "        for record in self.records:\n",
    "            self.signal_slice[record]=np.ndarray.flatten(self.records[record].p_signal[0:1000])\n",
    "    def smoothed_signal_(self):\n",
    "        for record in self.records:\n",
    "            self.smoothed_signal[record]=signal.cspline1d(self.signal_slice[record],lamb=1000)\n",
    "    def r_peaks_(self):\n",
    "        for record in self.records:\n",
    "            self.r_peaks[record]=peakutils.indexes(self.smoothed_signal[record],thres=0.5,min_dist=0.1)            "
   ]
  },
  {
   "cell_type": "code",
   "execution_count": null,
   "metadata": {},
   "outputs": [],
   "source": []
  }
 ],
 "metadata": {
  "kernelspec": {
   "display_name": "Python 3",
   "language": "python",
   "name": "python3"
  },
  "language_info": {
   "codemirror_mode": {
    "name": "ipython",
    "version": 3
   },
   "file_extension": ".py",
   "mimetype": "text/x-python",
   "name": "python",
   "nbconvert_exporter": "python",
   "pygments_lexer": "ipython3",
   "version": "3.7.4"
  }
 },
 "nbformat": 4,
 "nbformat_minor": 2
}
